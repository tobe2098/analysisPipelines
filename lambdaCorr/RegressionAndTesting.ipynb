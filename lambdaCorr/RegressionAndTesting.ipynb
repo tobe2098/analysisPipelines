{
 "cells": [
  {
   "cell_type": "code",
   "execution_count": 1,
   "metadata": {},
   "outputs": [],
   "source": [
    "import os\n",
    "import pandas as pd\n",
    "#import numpy as np\n",
    "import matplotlib.pyplot as plt\n",
    "from sklearn import linear_model\n",
    "from ast import literal_eval"
   ]
  },
  {
   "attachments": {},
   "cell_type": "markdown",
   "metadata": {},
   "source": [
    "# Load fitting data"
   ]
  },
  {
   "cell_type": "code",
   "execution_count": 5,
   "metadata": {},
   "outputs": [
    {
     "data": {
      "image/png": "[encoded data removed]",
      "text/plain": [
       "<Figure size 640x480 with 1 Axes>"
      ]
     },
     "metadata": {},
     "output_type": "display_data"
    }
   ],
   "source": [
    "number_of_bins=50\n",
    "\n",
    "current_wd=os.getcwd()\n",
    "fitDataFolder=os.path.join(current_wd, 'RegressionData')\n",
    "subfolders_fitDataFolder = [ f.path for f in os.scandir(fitDataFolder) if f.is_dir() ]\n",
    "lambda_list=list()\n",
    "weights_list=list()\n",
    "for subfolder in subfolders_fitDataFolder:\n",
    "    weight_file=[ str(f.path) for f in os.scandir(subfolder) if str(f.path).endswith('HeteroSynapses.dat') ][0]\n",
    "    weights_table=pd.read_table(weight_file, comment='#').iloc[::,1:-1].applymap(lambda x: x.replace(\"{\", \"\")).applymap(lambda x: x.replace(\"}\", \"\")).applymap(lambda x: x.split(',')[1]).astype('float32').values[0]\n",
    "    if weights_table[0] == weights_table[-1] and weights_table[1] == weights_table[-2]:\n",
    "        continue\n",
    "    #weights_table.sort()\n",
    "    lambda_list.append(float(os.path.basename(subfolder).split('_')[6]))\n",
    "    weights_list.append(list(weights_table))\n",
    "fit_data=pd.DataFrame(lambda_list, columns=['lambdas'])\n",
    "fit_data['weightData']=weights_list\n",
    "\n",
    "_,bins,_=plt.hist(fit_data.iloc[25,-1], bins=number_of_bins)\n",
    "list_of_histograms=list()\n",
    "for i in range(0, len(fit_data['weightData'])):\n",
    "    histogram,_,_=plt.hist(fit_data.iloc[i,-1], bins=bins)\n",
    "    list_of_histograms.append(list(histogram.tolist()))\n",
    "fit_data['binData']=list_of_histograms\n",
    "\n",
    "cols=['binData']\n",
    "df1 = pd.concat([pd.DataFrame(fit_data[x].values.tolist()).add_prefix(x) for x in cols], axis=1)\n",
    "fit_data = pd.concat([df1, fit_data.drop(cols, axis=1)], axis=1)\n",
    "fit_data.to_csv('fitting_data.csv')\n"
   ]
  },
  {
   "attachments": {},
   "cell_type": "markdown",
   "metadata": {},
   "source": [
    "## Load testing data"
   ]
  },
  {
   "cell_type": "code",
   "execution_count": 12,
   "metadata": {},
   "outputs": [],
   "source": [
    "testDataFolder=os.path.join(current_wd, 'TestData')\n",
    "subfolders_testDataFolder = [ f.path for f in os.scandir(testDataFolder) if f.is_dir() ]\n",
    "weights_list=list()\n",
    "#The 5d7 0d0\n",
    "subfolder=subfolders_testDataFolder[0]\n",
    "weight_file=[str(f.path) for f in os.scandir(subfolder) if str(f.path).endswith('HeteroSynapses.dat') ][0]\n",
    "temp_data5d70d0=pd.read_table(weight_file, comment='#').iloc[::,1:-1].applymap(lambda x: x.replace(\"{\", \"\")).applymap(lambda x: x.replace(\"}\", \"\")).applymap(lambda x: x.split(',')[1]).astype('float32')\n",
    "time_df=pd.read_table(weight_file, comment='#').iloc[::,0]\n",
    "lambda_list_len=round(len(time_df)/2)\n",
    "lambda_list=[5.7]*lambda_list_len\n",
    "lambda_list.extend([0.0]*lambda_list_len)\n",
    "\n",
    "list_of_histograms=list()\n",
    "for i in range(0, len(time_df)):\n",
    "    histogram,_,_=plt.hist(temp_data5d70d0.iloc[i,::], bins=bins)\n",
    "    list_of_histograms.append(list(histogram.tolist()))\n",
    "\n",
    "test_data5d70d0=pd.DataFrame(list_of_histograms, columns=['allHistograms'])\n",
    "test_data5d70d0['lambdas']=lambda_list\n",
    "test_data5d70d0['time']=time_df\n",
    "\n",
    "cols=['allHistograms']\n",
    "df1 = pd.concat([pd.DataFrame(test_data5d70d0[x].values.tolist()).add_prefix(x) for x in cols], axis=1)\n",
    "fit_data = pd.concat([df1, test_data5d70d0.drop(cols, axis=1)], axis=1)\n",
    "test_data5d70d0.to_csv('test_data5d70d0.csv')\n",
    "\n",
    "\n",
    "\n",
    "#fit_data=pd.DataFrame(lambda_list, columns=['lambdas'])\n",
    "#fit_data['weightData']=weights_list"
   ]
  },
  {
   "cell_type": "code",
   "execution_count": null,
   "metadata": {},
   "outputs": [],
   "source": [
    "subfolder=subfolders_testDataFolder[1]\n",
    "weight_file=[str(f.path) for f in os.scandir(subfolder) if str(f.path).endswith('HeteroSynapses.dat') ][0]\n",
    "test_data8d94d6=pd.read_table(weight_file, comment='#').iloc[::,1:-1].applymap(lambda x: x.replace(\"{\", \"\")).applymap(lambda x: x.replace(\"}\", \"\")).applymap(lambda x: x.split(',')[1]).astype('float32')\n",
    "time_df=pd.read_table(weight_file, comment='#').iloc[::,0]\n",
    "lambda_list_len=round(len(time_df)/2)\n",
    "lambda_list=[8.9]*lambda_list_len\n",
    "lambda_list.extend([4.6]*lambda_list_len)\n",
    "\n",
    "list_of_histograms=list()\n",
    "for i in range(0, len(time_df)):\n",
    "    histogram,_,_=plt.hist(fit_data.iloc[i,::], bins=bins)\n",
    "    list_of_histograms.append(list(histogram.tolist()))\n",
    "\n",
    "test_data8d94d6=pd.DataFrame(list_of_histograms, columns=['allHistograms'])\n",
    "test_data8d94d6['lambdas']=lambda_list\n",
    "test_data8d94d6['time']=time_df\n",
    "\n",
    "cols=['allHistograms']\n",
    "df1 = pd.concat([pd.DataFrame(test_data8d94d6[x].values.tolist()).add_prefix(x) for x in cols], axis=1)\n",
    "fit_data = pd.concat([df1, test_data8d94d6.drop(cols, axis=1)], axis=1)\n",
    "test_data8d94d6.to_csv('test_data5d70d0.csv')"
   ]
  },
  {
   "cell_type": "code",
   "execution_count": 26,
   "metadata": {},
   "outputs": [],
   "source": [
    "\n",
    "fit_data=pd.read_csv('fitting_data.csv', index_col=0)\n",
    "fit_data['weightData']=fit_data['weightData'].map(literal_eval)\n",
    "test_data5d70d0=pd.read_csv('test_data5d70d0.csv', index_col=0)\n",
    "test_data8d94d6=pd.read_csv('test_data8d94d6.csv', index_col=0)\n",
    "#fit_data['weightData']=fit_data['weightData'].map(literal_eval)"
   ]
  },
  {
   "attachments": {},
   "cell_type": "markdown",
   "metadata": {},
   "source": [
    "## Fitting"
   ]
  },
  {
   "cell_type": "code",
   "execution_count": 30,
   "metadata": {},
   "outputs": [
    {
     "ename": "AttributeError",
     "evalue": "module 'sklearn' has no attribute 'linear_model'",
     "output_type": "error",
     "traceback": [
      "\u001b[1;31m---------------------------------------------------------------------------\u001b[0m",
      "\u001b[1;31mAttributeError\u001b[0m                            Traceback (most recent call last)",
      "Cell \u001b[1;32mIn[30], line 4\u001b[0m\n\u001b[0;32m      1\u001b[0m X_fit\u001b[39m=\u001b[39mpd\u001b[39m.\u001b[39mDataFrame(fit_data\u001b[39m.\u001b[39mdrop(columns\u001b[39m=\u001b[39m[\u001b[39m'\u001b[39m\u001b[39mlambdas\u001b[39m\u001b[39m'\u001b[39m, \u001b[39m'\u001b[39m\u001b[39mweightData\u001b[39m\u001b[39m'\u001b[39m]))\n\u001b[0;32m      2\u001b[0m Y_fit\u001b[39m=\u001b[39mfit_data[\u001b[39m'\u001b[39m\u001b[39mlambdas\u001b[39m\u001b[39m'\u001b[39m]\n\u001b[1;32m----> 4\u001b[0m regression\u001b[39m=\u001b[39msk\u001b[39m.\u001b[39mlinear_model\u001b[39m.\u001b[39mLinearRegression()\n",
      "\u001b[1;31mAttributeError\u001b[0m: module 'sklearn' has no attribute 'linear_model'"
     ]
    }
   ],
   "source": [
    "X_fit=pd.DataFrame(fit_data.drop(columns=['lambdas', 'weightData']))\n",
    "Y_fit=fit_data['lambdas']\n",
    "\n",
    "regression=linear_model.LinearRegression()\n",
    "regression.fit(X_fit, Y_fit)"
   ]
  }
 ],
 "metadata": {
  "kernelspec": {
   "display_name": "DataAnalysisBrainCode",
   "language": "python",
   "name": "python3"
  },
  "language_info": {
   "codemirror_mode": {
    "name": "ipython",
    "version": 3
   },
   "file_extension": ".py",
   "mimetype": "text/x-python",
   "name": "python",
   "nbconvert_exporter": "python",
   "pygments_lexer": "ipython3",
   "version": "3.11.3"
  },
  "orig_nbformat": 4
 },
 "nbformat": 4,
 "nbformat_minor": 2
}
